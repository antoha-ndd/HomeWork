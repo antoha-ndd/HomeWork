{
 "cells": [
  {
   "cell_type": "markdown",
   "metadata": {},
   "source": [
    "## NFP -> Python"
   ]
  },
  {
   "cell_type": "markdown",
   "metadata": {},
   "source": [
    "## Занятие 3. Парсинг сайтов. Beautifulsoup"
   ]
  },
  {
   "cell_type": "markdown",
   "metadata": {},
   "source": [
    "### План занятия"
   ]
  },
  {
   "cell_type": "markdown",
   "metadata": {},
   "source": [
    " - Что такое Beautifulsoup, для чего нужен\n",
    " - Простая структура HTML-сайтов\n",
    " - Как грабить сайты (библиотеки и для чего они нужны)\n",
    " - Средства браузера для исследования страницы\n",
    " - Тренировка на кошках\n",
    " - Методы Beautifulsoup\n",
    " - Разбор структуры сайта nfp2b.ru\n",
    " - Парсим опубликованные новости\n",
    " - Домашнее задание"
   ]
  },
  {
   "cell_type": "markdown",
   "metadata": {},
   "source": [
    "#### Что такое Beautifulsoup, для чего нужен"
   ]
  },
  {
   "cell_type": "markdown",
   "metadata": {},
   "source": [
    "<b>BeautifulSoup</b> — это библиотека Python для извлечения данных из файлов HTML и XML. Она работает со множеством различных парсеров, чтобы дать  естественные способы навигации, поиска и изменения дерева разбора. Обычно экономит программистам часы и дни работы."
   ]
  },
  {
   "cell_type": "markdown",
   "metadata": {},
   "source": [
    "#### Простая структура HTML-сайтов"
   ]
  },
  {
   "cell_type": "markdown",
   "metadata": {},
   "source": [
    "Разберем пример простой html-страницы\n",
    "\n",
    "------------------------------------------------------------------"
   ]
  },
  {
   "cell_type": "markdown",
   "metadata": {},
   "source": [
    "<html>\n",
    "    <head>\n",
    "        <title>\n",
    "            Cтраница на HTML\n",
    "        </title>\n",
    "    </head>\n",
    "    <div class = 'class1'>\n",
    "        <h1>Hello</h1>\n",
    "    <div>\n",
    "    <body>\n",
    "        <h1>\n",
    "            Заголовок \"h1\"\n",
    "        </h1>\n",
    "        <h2>\n",
    "            Заголовок \"h2\"\n",
    "        </h2>\n",
    "        <ul>\n",
    "            <li>\n",
    "                <a href=\"https://yandex.ru\">\n",
    "                    Первая ссылка\n",
    "                </a>\n",
    "            </li>\n",
    "            <li>\n",
    "                <a href=\"https://nfp2b.ru\">\n",
    "                    Вторая ссылка\n",
    "                </a>\n",
    "            </li>\n",
    "        </ul>\n",
    "    </body>\n",
    "</html>"
   ]
  },
  {
   "cell_type": "markdown",
   "metadata": {},
   "source": [
    "--------------------------------------------------------------------\n",
    "Элементы HTML являются строительными блоками HTML страниц. С помощью HTML разные конструкции, изображения и другие объекты, такие как интерактивная веб-форма, могут быть встроены в отображаемую страницу. HTML предоставляет средства для создания заголовков, абзацев, списков, ссылок, цитат и других элементов. Элементы HTML выделяются тегами, записанными с использованием угловых скобок. Такие теги, как \"img\" и \"input\", напрямую вводят контент на страницу. Другие теги, такие как \"p\", окружают и оформляют текст внутри себя и могут включать другие теги в качестве подэлементов. Браузеры не отображают HTML-теги, но используют их для интерпретации содержимого страницы."
   ]
  },
  {
   "cell_type": "markdown",
   "metadata": {},
   "source": [
    "Содержимое гипертекстовой разметки образует объектную модель документа (DOM) - структурированную иерархию узлов разных уровней со связями \"родитель\"-\"ребенок\". Приведеный выше пример может быть представлен в виде следующей иерархии узлов:\n"
   ]
  },
  {
   "cell_type": "markdown",
   "metadata": {},
   "source": [
    "---------------------------------------------------------------------\n",
    "<IMG SRC=L3-04.png></IMG>"
   ]
  },
  {
   "cell_type": "markdown",
   "metadata": {},
   "source": [
    "<b>И в терминах \"родитель-ребенок\":</b>"
   ]
  },
  {
   "cell_type": "markdown",
   "metadata": {},
   "source": [
    "<IMG SRC=L3-02.png></IMG>\n",
    "\n",
    "----------------------------------------------------------------"
   ]
  },
  {
   "cell_type": "markdown",
   "metadata": {},
   "source": [
    "## Как грабить сайты"
   ]
  },
  {
   "cell_type": "markdown",
   "metadata": {},
   "source": [
    "<b>Библиотека Requests</b> предоставляет возможность управления HTTP-запросами при помощи языка Python. Инструментарий библиотеки широкий и рассчитан на все случаи взаимодействия с web-приложениями. Код, написанный с применением Requests, не является громоздким, легко читается, а функции и методы наглядно настраиваются под специфические нужды.\n",
    "\n",
    "<b>Библиотека lxml</b> это быстрая и гибкая библиотека для обработки разметки XML и HTML на Python. Кроме того, в ней присутствует возможность разложения элементов документа в дерево\n",
    "\n",
    "<b>Библиотека BeautifulSoup</b> — это библиотека Python для извлечения данных из файлов HTML и XML. Она работает со множеством различных парсеров, чтобы дать  естественные способы навигации, поиска и изменения дерева разбора. Обычно экономит программистам часы и дни работы.\n",
    "\n",
    "<IMG src=\"L3-05.png\"></IMG>"
   ]
  },
  {
   "cell_type": "code",
   "execution_count": 10,
   "metadata": {},
   "outputs": [],
   "source": [
    "import lxml\n",
    "from bs4 import BeautifulSoup as bs"
   ]
  },
  {
   "cell_type": "code",
   "execution_count": 27,
   "metadata": {},
   "outputs": [],
   "source": [
    "html = bs('<h1> Заголовок1 </h1> <ul><li>маркер1 <li>маркер2', 'lxml')"
   ]
  },
  {
   "cell_type": "code",
   "execution_count": 28,
   "metadata": {},
   "outputs": [
    {
     "name": "stdout",
     "output_type": "stream",
     "text": [
      "<html><body><h1> Заголовок1 </h1> <ul><li>маркер1 </li><li>маркер2</li></ul></body></html>\n"
     ]
    }
   ],
   "source": [
    "print(html)"
   ]
  },
  {
   "cell_type": "code",
   "execution_count": 42,
   "metadata": {},
   "outputs": [
    {
     "name": "stdout",
     "output_type": "stream",
     "text": [
      "[<li>маркер1 </li>, <li>маркер2</li>]\n"
     ]
    }
   ],
   "source": [
    "print(html.findAll('li'))"
   ]
  },
  {
   "cell_type": "code",
   "execution_count": 44,
   "metadata": {},
   "outputs": [
    {
     "name": "stdout",
     "output_type": "stream",
     "text": [
      "маркер1 \n",
      "маркер2\n"
     ]
    }
   ],
   "source": [
    "for i in html.findAll('li', {'class':'class1'}):\n",
    "    print(i['class'])"
   ]
  },
  {
   "cell_type": "markdown",
   "metadata": {},
   "source": [
    "------------------------------------------------------------\n",
    "## Средства браузера для исследования страницы\n",
    "\n",
    "Любой современный веб-браузер сегодня имеет набор встроенных инструментов разработчика. Для их включения вы можете использовать <b>Ctrl+Shift+I</b>, <b>CMD+Option+I</b> (macOS), <b>кнопку F12</b> или просто найдите нужную опцию в меню браузера — это зависит от операционной системы и браузера, которые вы используете."
   ]
  },
  {
   "cell_type": "markdown",
   "metadata": {},
   "source": [
    "------------------------------------------------------------------------------------\n"
   ]
  },
  {
   "cell_type": "markdown",
   "metadata": {},
   "source": [
    "### Попрактикуемся"
   ]
  },
  {
   "cell_type": "markdown",
   "metadata": {},
   "source": [
    "Парсить HTML мы будем при помощи библиотек requests, BeautifulSoup и парсера lxml.\n",
    "\n",
    "Установка библиотек при помощи pip:"
   ]
  },
  {
   "cell_type": "markdown",
   "metadata": {},
   "source": [
    "* pip3 install beautifulsoup4\n",
    "* pip3 install lxml\n",
    "* pip3 install requests"
   ]
  },
  {
   "cell_type": "code",
   "execution_count": 3,
   "metadata": {},
   "outputs": [],
   "source": [
    "import lxml\n",
    "from bs4 import BeautifulSoup as bs"
   ]
  },
  {
   "cell_type": "code",
   "execution_count": 4,
   "metadata": {},
   "outputs": [],
   "source": [
    "html = bs('<h1> Заголовок1 </h1> <ul><li>маркер1 <li>маркер2', 'lxml')"
   ]
  },
  {
   "cell_type": "code",
   "execution_count": 5,
   "metadata": {},
   "outputs": [
    {
     "name": "stdout",
     "output_type": "stream",
     "text": [
      "<html><body><h1> Заголовок1 </h1> <ul><li>маркер1 </li><li>маркер2</li></ul></body></html>\n"
     ]
    }
   ],
   "source": [
    "print(html)"
   ]
  },
  {
   "cell_type": "markdown",
   "metadata": {},
   "source": [
    "------------------------------------------------------------------------------------\n",
    "## Атрибуты и Методы Beautifulsoup (основные)"
   ]
  },
  {
   "cell_type": "markdown",
   "metadata": {},
   "source": [
    "<b>Атрибуты:</b>\n",
    " - .children - все дочерние элементы (итератор)\n",
    " - .parent   - родительский элемент\n",
    " - .descendants - рекурсивный список всех элементов (итератор)\n",
    " - .text - совокупность текстовых элементов внутри иерархии элемента\n",
    " - .next_sibling - следующий элемент того же уровня\n",
    " - .previous_sibling - предыдущий элемент того же уровня"
   ]
  },
  {
   "cell_type": "markdown",
   "metadata": {},
   "source": [
    "<b>Методы:</b>\n",
    " - .find() - ищет первый попавшийся элемент, соответствующий отбору\n",
    " - .findAll() - ищет все элементы, соответствующие отбору\n",
    "\n",
    "<b>Примеры аргументов функций find*:</b>\n",
    "\n",
    " - ('li') - найти первый / все элементы <b>li</b>\n",
    " - ('div', {'class': 'dft1', 'alt': 'первый'}) - найти первый / все элементы <b>div</b>, у которых атрибут class = dft1 и аттрибут alt = первый\n",
    " - (attrs={'class': 'dft1'}) - найти первый / все элементы, у которых атрибут class = dft1"
   ]
  },
  {
   "cell_type": "code",
   "execution_count": 45,
   "metadata": {},
   "outputs": [],
   "source": [
    "import requests\n",
    "import lxml\n",
    "from bs4 import BeautifulSoup as bs"
   ]
  },
  {
   "cell_type": "code",
   "execution_count": 46,
   "metadata": {},
   "outputs": [],
   "source": [
    "html_text = requests.get('https://market.yandex.ru/')"
   ]
  },
  {
   "cell_type": "code",
   "execution_count": null,
   "metadata": {},
   "outputs": [],
   "source": [
    "print(html_text.text)"
   ]
  },
  {
   "cell_type": "code",
   "execution_count": 49,
   "metadata": {},
   "outputs": [],
   "source": [
    "soup = bs(html_text.text, 'lxml')"
   ]
  },
  {
   "cell_type": "code",
   "execution_count": 50,
   "metadata": {},
   "outputs": [],
   "source": [
    "links = soup.findAll('div', {'class':'_1FLh8'})"
   ]
  },
  {
   "cell_type": "code",
   "execution_count": 53,
   "metadata": {},
   "outputs": [
    {
     "name": "stdout",
     "output_type": "stream",
     "text": [
      "/catalog/22493291/list?rs=eJwzUvdS5hLzCYv3y3EMjAqP0q3I8680tbBMMvF3FOI0NbUwNDc0MDNPYAQA4J0KOg%2C%2C&tcl=1\n",
      "/catalog/22493285/list?rs=eJwzUvdS5hILck9MNXSNMHJzLfWsSjE2C3cqM811FOK0NDMyMDUwMDNPYAQA2jUKFw%2C%2C&tcl=1\n",
      "/catalog/22493287/list?rs=eJwzUvdS5hIzyYkKyimvdE_JiK8w9kmziKjQNTQoF-I0M7cwtDAyMDZOYAQA7f8KvQ%2C%2C&tcl=1\n",
      "/catalog/22493294/list?rs=eJwz0vBS4RLzdzZ3c4n0Ts_3cw_LzSs1KvAxcykKFOIyNDExNzEwNjE2T2AEAOr1Cp4%2C&tcl=1\n",
      "/catalog/22493292/list?rs=eJwzUvdS5hILCysqzfLPSUos8DAvLPFO9Tcz8wpzFOK0sDQ1Njc0MDVMYAQA8mkK1Q%2C%2C&tcl=1\n",
      "/catalog/22493289/list?rs=eJwz0vBS4RIr8zGrys-PKKzIMXAuL08vCqws9YpyFOIyNDE0sTC1MDEyTmAEAAwmC8k%2C&tcl=1\n"
     ]
    }
   ],
   "source": [
    "for i in links:\n",
    "    print(i.a['href'])"
   ]
  },
  {
   "cell_type": "markdown",
   "metadata": {},
   "source": [
    "## Парсим сайт nfp2b.ru"
   ]
  },
  {
   "cell_type": "code",
   "execution_count": 54,
   "metadata": {},
   "outputs": [],
   "source": [
    "import requests\n",
    "import lxml\n",
    "from bs4 import BeautifulSoup as bs"
   ]
  },
  {
   "cell_type": "code",
   "execution_count": 55,
   "metadata": {},
   "outputs": [],
   "source": [
    "#получим сырой текст html\n",
    "html_text = requests.get('https://nfp2b.ru/news/')"
   ]
  },
  {
   "cell_type": "code",
   "execution_count": 56,
   "metadata": {},
   "outputs": [],
   "source": [
    "#сварим суп - получим упорядоченную структуру тегов\n",
    "soup = bs(html_text.text, 'lxml') "
   ]
  },
  {
   "cell_type": "code",
   "execution_count": 57,
   "metadata": {},
   "outputs": [],
   "source": [
    "#найдем все новости\n",
    "news = soup.findAll('div', {'class': 'news-card__content'})"
   ]
  },
  {
   "cell_type": "code",
   "execution_count": 68,
   "metadata": {},
   "outputs": [
    {
     "name": "stdout",
     "output_type": "stream",
     "text": [
      "10.06.2022 Офис NFP вошел в ТОП-50 по версии RAEX https://nfp2b.ru/2022/06/10/ofis-nfp-voshel-v-top-50-po-versii-raex/\n",
      "08.06.2022 Предстоящие вебинары и курсы офиса NFP в июне https://nfp2b.ru/2022/06/08/predstoyashhie-vebinary-i-kursy-ofisa-nfp-v-iyune/\n",
      "02.06.2022 Стартует курс по Казначейству и управлению закупками в 1С:УХ 8 https://nfp2b.ru/2022/06/02/startuet-kurs-po-kaznachejstvu-i-upravleniyu-zakupkami-v-1s-uh-8/\n",
      "26.05.2022 Базовые принципы настройки и работы с инструментами контролей документа «Заявка на оплату» в конфигурации «1С: Управление холдингом» https://nfp2b.ru/2022/05/26/bazovye-printsipy-nastrojki-i-raboty-s-instrumentami-kontrolej-dokumenta-zayavka-na-oplatu-v-konfiguratsii-1s-upravlenie-holdingom/\n",
      "17.05.2022 Настройка списка бюджетных отчетов в 1С:ERP https://nfp2b.ru/2022/05/17/nastrojka-spiska-byudzhetnyh-otchetov-v-1s-erp/\n",
      "13.05.2022 Предстоящие вебинары офиса NFP в мае https://nfp2b.ru/2022/05/13/predstoyashhie-vebinary-ofisa-nfp-v-mae/\n",
      "05.05.2022 Применение ФСБУ 25/2018 в подсистеме: «Бюджетирование, отчетность и анализ» в 1С: Управление холдингом https://nfp2b.ru/2022/05/05/primenenie-fsbu-25-2018-v-podsisteme-byudzhetirovanie-otchetnost-i-analiz-v-1s-upravlenie-holdingom/\n",
      "04.05.2022 Подписывайтесь на нас в социальных сетях https://nfp2b.ru/2022/05/04/podpisyvajtes-na-nas-v-sotsialnyh-setyah/\n",
      "29.04.2022 Прошедшие вебинары за апрель https://nfp2b.ru/2022/04/29/proshedshie-vebinary-za-aprel-2022-goda/\n",
      "22.04.2022 Роботизация процессов, использующих мультиаккаунты (на примере WhatsApp) https://nfp2b.ru/2022/04/22/robotizatsiya-protsessov-ispolzuyushhih-multiakkaunty-na-primere-whatsapp/\n",
      "14.04.2022 Офис NFP автоматизировал процессы обработки договорных документов в РАНХиГС https://nfp2b.ru/2022/04/14/ofis-nfp-avtomatiziroval-protsessy-obrabotki-dogovornyh-dokumentov-v-ranhigs/\n",
      "06.04.2022 Предстоящие вебинары офиса NFP в апреле https://nfp2b.ru/2022/04/06/predstoyashhie-vebinary-ofisa-nfp/\n",
      "31.03.2022 Завершился курс по МСФО в 1С:Управление Холдингом https://nfp2b.ru/2022/03/31/zavershilsya-kurs-po-msfo-v-1s-upravlenie-holdingom/\n",
      "24.03.2022 Прошел вебинар по программному роботу Владимиру — использование отечественного ПО https://nfp2b.ru/2022/03/24/proshel-vebinar-po-programmnomu-robotu-vladimiru/\n",
      "16.03.2022 Прошел вебинар по программному роботу Даниле — помощника финансиста https://nfp2b.ru/2022/03/16/webinar-robot-danila-15-03-22-news/\n",
      "11.03.2022 Роботизация бизнес-процессов на платформе UiPath https://nfp2b.ru/2022/03/11/robotizatsiya-biznes-protsessov-na-platforme-uipath/\n",
      "16.02.2022 Аренда в соответствии с ФСБУ 25/2018 – факторы успешного перехода. Методологическая часть https://nfp2b.ru/2022/02/16/arenda-v-sootvetstvii-s-fsbu-25-2018-faktory-uspeshnogo-perehoda-metodologicheskaya-chast/\n",
      "10.02.2022 Точки роста операционной эффективности на базе процесса Закупок https://nfp2b.ru/2022/02/10/tochki-rosta-operatsionnoj-effektivnosti-na-baze-protsessa-zakupok/\n",
      "04.02.2022 Роботизация бизнес-процессов на платформе PIX https://nfp2b.ru/2022/02/04/robotizatsiya-biznes-protsessov-na-platforme-pix/\n",
      "27.01.2022 Внешнее оформление бюджетного отчета в 1С:ERP https://nfp2b.ru/2022/01/27/vneshnee-oformlenie-byudzhetnogo-otcheta-v-1s-erp/\n"
     ]
    }
   ],
   "source": [
    "#цикл по новостям\n",
    "#выведем заголовок новости и дату публикации, ссылку на новость\n",
    "for i in news:\n",
    "    #print()\n",
    "    print(i.ul.li.next_sibling.next_sibling.span.text, i.a.text, i.a['href'])"
   ]
  },
  {
   "cell_type": "code",
   "execution_count": 72,
   "metadata": {},
   "outputs": [
    {
     "name": "stdout",
     "output_type": "stream",
     "text": [
      "Страница 2\n",
      "18.01.2022 О регламентных операциях и закрытии периода в 1С: Управление холдингом и 1С:ERP Управление холдингом https://nfp2b.ru/2022/01/18/o-reglamentnyh-operatsiyah-i-zakrytii-perioda/\n",
      "11.01.2022 Решение от офиса NFP оптимизировало затраты на логистику в компании Coca-Cola https://nfp2b.ru/2022/01/11/reshenie-ot-ofisa-nfp-optimizirovalo-zatraty-na-logistiku-v-kompanii-coca-cola/\n",
      "24.12.2021 Регистрация первичных документов на платформе PIX с помощью программного робота https://nfp2b.ru/2021/12/24/registracia-pervichnih-documentov-pix/\n",
      "24.12.2021 Формирование справки 2-НДФЛ с помощью робота на платформе PIX https://nfp2b.ru/2021/12/24/formirovanie-spravki-2-ndfl-s-pomoshhyu-robota-na-platforme-pix/\n",
      "09.12.2021 Стажировка школьников в офисе NFP https://nfp2b.ru/2021/12/09/stazhirovka-shkolnikov-v-ofise-nfp/\n",
      "11.11.2021 Стартует курс по Бюджетному контролю в прикладном решении 1C: ERP. Управление Холдингом 8 https://nfp2b.ru/2021/11/11/startuet-kurs-po-byudzhetnomu-kontrolyu-v-prikladnom-reshenii-1c-erp-upravlenie-holdingom-8/\n",
      "20.09.2021 NFP завершила проект по роботизации сверки актов на Синарском трубном заводе https://nfp2b.ru/2021/09/20/nfp-uspeshno-zavershila-proekt-po-robotizatsii-raboty-s-finansovoj-dokumentatsiej-sinarskogo-trubnogo-zavoda-sintz/\n",
      "17.09.2021 Проект по автоматизации учетных процессов в ГК «АЛРОСА» победил в конкурсе «1С:Проект года» https://nfp2b.ru/2021/09/17/proekt-po-avtomatizatsii-uchetnyh-protsessov-v-gk-alrosa-pobedil-v-konkurse-1s-proekt-goda/\n",
      "13.09.2021 Три возможных сценария применения RPA в сфере страхования https://nfp2b.ru/2021/09/13/tri-vozmozhnyh-stsenariya-primeneniya-rpa-v-sfere-strahovaniya/\n",
      "13.09.2021 Облачные платформы способствовали росту ПО для создания производственных имитационных моделей на 11% https://nfp2b.ru/2021/09/13/oblachnye-platformy-sposobstvovali-rostu-po-dlya-sozdaniya-proizvodstvennyh-imitatsionnyh-modelej-na-11/\n",
      "26.08.2021 Внедрение роботов на платформе PIX RPA в 3 раза ускорило обработку документов в KÄRCHER https://nfp2b.ru/2021/08/26/vnedrenie-robotov-na-platforme-pix-rpa-v-3-raza-uskorilo-obrabotku-dokumentov-v-karcher/\n",
      "23.08.2021 Завершился курс по МСФО в 1С:ERP. Управление Холдингом https://nfp2b.ru/2021/08/23/nfp-provela-kurs-po-msfo-v-1s-erp-uh-v-uchebnom-tsentre-1s/\n",
      "19.08.2021 UiPath шагает впереди: рейтинг зарубежных RPA-платформ от Gartner за 2021 год https://nfp2b.ru/2021/08/19/uipath-shagaet-vperedi-rejting-zarubezhnyh-rpa-platform-ot-gartner-za-2021-god/\n",
      "05.08.2021 Методика учета аренды у арендатора в части ФСБУ 25/2018 https://nfp2b.ru/2021/08/05/metodika-ucheta-arendy-u-arendatora-v-chasti-fsbu-25-2018/\n",
      "13.07.2021 Связь подсистем «Корпоративные закупки» и «Казначейство» в решении «1С:Управление холдингом» https://nfp2b.ru/2021/07/13/svyaz-podsistem-korporativnye-zakupki-i-kaznachejstvo-v-reshenii-1s-upravlenie-holdingom/\n",
      "12.07.2021 Приглашаем на RPA Start — открытый вебинар о программной роботизации бизнеса https://nfp2b.ru/2021/07/12/priglashaem-na-rpa-start-otkrytyj-vebinar-o-programmnoj-robotizatsii-biznesa/\n",
      "07.07.2021 Роботы как шина данных: смотрите видео выступления Виктории Бабанкиной и Тимофея Буряка на Форуме RPA 2021 https://nfp2b.ru/2021/07/07/roboty-kak-shina-dannyh-smotrite-video-vystupleniya-viktorii-babankinoj-i-timofeya-buryaka-na-forume-rpa-2021/\n",
      "05.07.2021 Знакомство с семейством офисных роботов продолжается: ждем вас на бесплатном вебинаре, посвященном HR-роботу Владимиру https://nfp2b.ru/2021/07/05/znakomstvo-s-semejstvom-ofisnyh-robotov-prodolzhaetsya-zhdem-vas-na-besplatnom-vebinare-posvyashhennom-hr-robotu-vladimiru/\n",
      "02.07.2021 Эксперты NFP и Globus выступили на Форуме «Роботизация бизнес-процессов 2021» https://nfp2b.ru/2021/07/02/eksperty-nfp-i-globus-vystupili-na-forume-robotizatsiya-biznes-protsessov-2021/\n",
      "23.06.2021 Различия подсистемы закупок в «1С:Управление Холдингом» и «1С:ERP. Управление холдингом» https://nfp2b.ru/2021/06/23/razlichiya-podsistemy-zakupok-v-1s-uh-i-1s-erp-uh/\n",
      "Страница 3\n",
      "21.06.2021 Приглашаем на вебинар про робота Данилу — бухгалтера и казначея для вашей компании https://nfp2b.ru/2021/06/21/priglashaem-na-vebinar-pro-robota-danilu-buhgaltera-i-kaznacheya-dlya-vashej-kompanii/\n",
      "31.05.2021 NFP вошла в ТОП-60 консалтинговых компаний России https://nfp2b.ru/2021/05/31/kompaniya-nfp-voshla-v-top-60-konsaltingovyh-kompanij-rossii/\n",
      "29.04.2021 Автоматизация финансовой отчетности по МСФО https://nfp2b.ru/2021/04/29/avtomatizatsiya-finansovoj-otchetnosti-po-msfo/\n",
      "27.04.2021 Цифровые двойники и виртуальный ввод в эксплуатацию в контексте Четвертой промышленной революции https://nfp2b.ru/2021/04/27/tsifrovye-dvojniki-i-virtualnyj-vvod-v-ekspluatatsiyu-v-kontekste-chetvertoj-promyshlennoj-revolyutsii/\n",
      "26.04.2021 Компания Foodstuffs внедрила RPA, чтобы помочь сотрудникам избежать переработок и работы в выходные дни https://nfp2b.ru/2021/04/26/kompaniya-foodstuffs-vnedrila-rpa-chtoby-pomoch-sotrudnikam-izbezhat-pererabotok-i-raboty-v-vyhodnye-dni/\n",
      "20.04.2021 NFP на конференции RPA Moscow 2021 https://nfp2b.ru/2021/04/20/nfp-na-konferentsii-rpa-moscow-2021/\n",
      "16.04.2021 Управление цепями поставок в anyLogistics — открытый вебинар https://nfp2b.ru/2021/04/16/upravlenie-tsepyami-postavok-v-anylogistics-otkrytyj-vebinar/\n",
      "07.04.2021 Сергей Панченко выступит с докладом о роботизации в банках на конференции RPA Moscow 2021 https://nfp2b.ru/2021/04/07/sergej-panchenko-vystupit-s-dokladom-o-robotizatsii-v-bankah-na-konferentsii-rpa-moscow-2021/\n",
      "31.03.2021 Три преимущества автоматизации комплаенс-направления https://nfp2b.ru/2021/03/31/tri-preimushhestva-avtomatizatsii-komplaens-napravleniya/\n",
      "31.03.2021 В 2021 году комплаенс и управление рисками станут единым направлением https://nfp2b.ru/2021/03/31/v-2021-godu-komplaens-i-upravlenie-riskami-stanut-edinym-napravleniem/\n",
      "30.03.2021 HR meetup от руководителя отдела обучения и развития персонала NFP https://nfp2b.ru/2021/03/30/hr-meetup-ot-rukovoditelya-otdela-obucheniya-i-razvitiya-personala-nfp/\n",
      "29.03.2021 Автоматизация актов сверки с контрагентами. Фрагмент вебинара https://nfp2b.ru/2021/03/29/avtomatizatsiya-aktov-sverki-s-kontragentami-fragment-vebinara/\n",
      "29.03.2021 Создание цифровых двойников в среде AnyLogic — присоединяйтесь к вебинару по имитационному моделированию https://nfp2b.ru/2021/03/29/sozdanie-tsifrovyh-dvojnikov-v-srede-anylogic-prisoedinyajtes-k-vebinaru-po-imitatsionnomu-modelirovaniyu/\n",
      "19.03.2021 Компания NFP победила в номинации «Product GURU» на международном Партнерском Саммите 1Ci https://nfp2b.ru/2021/03/19/usehi-komandy-nfp-v-prodazhah-i-proektnoj-aktivnosti-byli-otmecheny-na-mezhdunarodnom-partnerskom-sammite-1ci/\n",
      "11.03.2021 RPA-трансформация как признак хороших перемен в бизнесе https://nfp2b.ru/2021/03/11/rpa-transformatsiya-kak-priznak-horoshih-peremen-v-biznese/\n",
      "01.03.2021 HR meetup. Наставничество: пустая трата времени или необходимость в рамках бизнеса? https://nfp2b.ru/2021/03/01/hr-meetup-nastavnichestvo-pustaya-trata-vremeni-ili-neobhodimost-v-ramkah-biznesa/\n",
      "01.03.2021 Важные аспекты бюджетного контроля в российских компаниях https://nfp2b.ru/2021/03/01/vazhnye-aspekty-byudzhetnogo-kontrolya-v-rossijskih-kompaniyah/\n",
      "25.02.2021 Серия вебинаров по программной роботизации RPA https://nfp2b.ru/2021/02/25/seriya-vebinarov-po-programmnoj-robotizatsii-rpa/\n",
      "18.02.2021 Компания NFP внедрила роботов RPA в ритейлере «Глобус» https://nfp2b.ru/2021/02/18/kompaniya-nfp-vnedrila-robotov-rpa-v-ritejlere-globus/\n",
      "16.02.2021 Компания NFP занялась роботизированной автоматизацией процессов ОЦО крупных холдингов https://nfp2b.ru/2021/02/16/kompaniya-nfp-zanyalas-robotizirovannoj-avtomatizaciej-processov-oco-krupnyx-xoldingov/\n",
      "Страница 4\n",
      "11.02.2021 Автоматизация бизнес-процессов в сельском хозяйстве https://nfp2b.ru/2021/02/11/avtomatizatsiya-biznes-protsessov-v-selskom-hozyajstve/\n",
      "10.02.2021 6 примеров использования технологии RPA при вакцинации против COVID-19 https://nfp2b.ru/2021/02/10/6-primerov-ispolzovaniya-tehnologii-rpa-pri-vaktsinatsii-protiv-covid-19/\n",
      "04.02.2021 Могут ли бизнес-пользователи создавать роботов, используя инструменты RPA? https://nfp2b.ru/2021/02/04/mogut-li-biznes-polzovateli-sozdavat-robotov-ispolzuya-instrumenty-rpa/\n",
      "28.01.2021 Новое агентное моделирование позволяет осознанно вводить ограничения в период пандемии https://nfp2b.ru/2021/01/28/novoe-agentnoe-modelirovanie-pozvolyaet-osoznanno-vvodit-ogranicheniya-v-period-pandemii/\n",
      "26.01.2021 Автоматизация бизнес-анализа в конфигурации «Управление холдингом 3.0» https://nfp2b.ru/2021/01/26/avtomatizatsiya-biznes-analiza-v-konfiguratsii-upravlenie-holdingom-3-0/\n",
      "21.01.2021 Нужно ли вашему бизнесу внедрять технологии? https://nfp2b.ru/2021/01/21/nuzhno-li-vashemu-biznesu-vnedryat-texnologii/\n",
      "18.01.2021 Преодолеваем парадокс продуктивности с помощью RPA https://nfp2b.ru/2021/01/18/preodolevaem-paradoks-produktivnosti-s-pomoshhyu-rpa/\n",
      "14.01.2021 Первый рейтинг российских RPA-платформ https://nfp2b.ru/2021/01/14/pervyj-rejting-rossijskih-rpa-platform/\n",
      "13.01.2021 Вице-президент Forrester считает блокчейн революционной, но сложной технологией https://nfp2b.ru/2021/01/13/vitse-prezident-forrester-schitaet-blokchejn-revolyutsionnoj-no-slozhnoj-tehnologiej/\n",
      "30.12.2020 Автоматизации процессов на базе 1С:Документооборот, Workflow process — опыт компании NFP https://nfp2b.ru/2020/12/30/avtomatizatsii-protsessov-na-baze-1s-dokumentooborot-workflow-process-opyt-kompanii-nfp/\n",
      "29.12.2020 Как управлять изменениями: советы по трансформации компании в 2021 году https://nfp2b.ru/2020/12/29/kak-upravlyat-izmeneniyami-sovety-po-transformatsii-kompanii-v-2021-godu/\n",
      "28.12.2020 Компьютерное моделирование стало более продвинутым и доступным, чем когда-либо https://nfp2b.ru/2020/12/28/kompyuternoe-modelirovanie-stalo-bolee-prodvinutym-i-dostupnym-chem-kogda-libo/\n",
      "25.12.2020 Как сделать 31 декабря 2020 г. нерабочим днём в 1С:ЗУП 3.1 https://nfp2b.ru/2020/12/25/kak-sdelat-31-dekabrya-2020-nerabochim-dnyom-v-zup-3-1/\n",
      "22.12.2020 Автоматизация бюджетирования на примере GMPLAN https://nfp2b.ru/2020/12/22/avtomatizatsiya-byudzhetirovaniya-na-primere-gmplan/\n",
      "17.12.2020 Автоматизации процессов в 1С:Документооборот. Workflow process — опыт компании NFP https://nfp2b.ru/2020/12/17/avtomatizatsii-protsessov-na-baze-1s-dokumentooborot-work-flow-process-opyt-kompanii-nfp/\n",
      "16.12.2020 Серия вебинаров по RPA — декабрь 2020 https://nfp2b.ru/2020/12/16/seriya-vebinarov-po-rpa-dekabr-2020/\n",
      "16.12.2020 Роботизация бизнеса. Центр компетенций по RPA https://nfp2b.ru/2020/12/16/robotizaciya-biznesa-centr-kompetencij-po-rpa/\n",
      "11.12.2020 Сергей Ложкин выступил с на круглом столе, посвященном молодежному предпринимательству в Общественной палате https://nfp2b.ru/2020/12/11/sergej-lozhkin-vystupil-s-na-kruglom-stole-posvyashhennom-molodezhnomu-predprinimatelstvu-v-obshhestvennoj-palate/\n",
      "08.12.2020 Почему технология RPA наиболее подходящий вариант для интеграции унаследованных систем https://nfp2b.ru/2020/12/08/pochemu-tehnologiya-rpa-naibolee-podhodyashhij-variant-dlya-integratsii-unasledovannyh-sistem/\n",
      "04.12.2020 Как автоматизировать МСФО отчетность на базе KIT Аccounting? https://nfp2b.ru/2020/12/04/kak-avtomatizirovat-msfo-otchetnost-na-baze-kit-accounting/\n"
     ]
    }
   ],
   "source": [
    "#получим сырой текст html\n",
    "html_text = requests.get('https://nfp2b.ru/news/')\n",
    "#сварим суп - получим упорядоченную структуру тегов\n",
    "soup = bs(html_text.text, 'lxml') \n",
    "\n",
    "pages = soup.findAll('a', {'class': 'page larger'})\n",
    "\n",
    "for i in pages:\n",
    "    print(i['title'])\n",
    "    #получаем ссылку станицы\n",
    "    page = i['href']\n",
    "    #получим сырой текст html\n",
    "    html_text = requests.get(page)\n",
    "    #сварим суп - получим упорядоченную структуру тегов\n",
    "    soup = bs(html_text.text, 'lxml')\n",
    "    #найдем все новости\n",
    "    news = soup.findAll('div', {'class': 'news-card__content'})\n",
    "    \n",
    "    #цикл по новостям\n",
    "    #выведем заголовок новости и дату публикации, ссылку на новость\n",
    "    for i in news:\n",
    "        print(i.ul.li.next_sibling.next_sibling.span.text, i.a.text, i.a['href'])\n",
    "    "
   ]
  },
  {
   "cell_type": "markdown",
   "metadata": {},
   "source": [
    "## Домашка!"
   ]
  },
  {
   "cell_type": "markdown",
   "metadata": {},
   "source": [
    "Распарсить котировки с главной страницы Яндекс. Результат вывести в виде последовательности строк вида:\n",
    "\n",
    "[Тикер] [Дата] [Курс] [Изменение] [Комментарий: заголовок диаграммы при переходе по ссылке]\n",
    "\n",
    "<b>Пример:</b>\n",
    "\n",
    "[USD ЦБ] [18 июня] [56,71] [-0,16] [Динамика курса доллара США к рублю (USD, ЦБ РФ)]\n",
    "\n",
    "<b>Опционально:</b>\n",
    " - Решение сдать в виде pull-request в git"
   ]
  },
  {
   "cell_type": "code",
   "execution_count": 23,
   "metadata": {},
   "outputs": [],
   "source": [
    "import requests\n",
    "import lxml\n",
    "import time\n",
    "from bs4 import BeautifulSoup as bs"
   ]
  },
  {
   "cell_type": "code",
   "execution_count": 24,
   "metadata": {},
   "outputs": [],
   "source": [
    "headers = {'user-agent': 'Mozilla/5.0 (Windows NT 10.0; Win64; x64) AppleWebKit/537.36 (KHTML, like Gecko) Chrome/100.0.4896.160 YaBrowser/22.5.2.615 Yowser/2.5 Safari/537.36'}"
   ]
  },
  {
   "cell_type": "code",
   "execution_count": 25,
   "metadata": {},
   "outputs": [],
   "source": [
    "html_text = requests.get('https://yandex.ru/', headers=headers)"
   ]
  },
  {
   "cell_type": "code",
   "execution_count": 26,
   "metadata": {},
   "outputs": [],
   "source": [
    "soup = bs(html_text.text, 'lxml')"
   ]
  },
  {
   "cell_type": "code",
   "execution_count": 27,
   "metadata": {},
   "outputs": [],
   "source": [
    "quotes = soup.find('div', {'class':'widget__content stocks__content'})"
   ]
  },
  {
   "cell_type": "code",
   "execution_count": 28,
   "metadata": {},
   "outputs": [
    {
     "name": "stdout",
     "output_type": "stream",
     "text": [
      "[USD ЦБ] [25 июня] [53,32 ₽] [Динамика курса доллара США к рублю (USD, ЦБ РФ)]\n",
      "[EUR ЦБ] [25 июня] [55,96 ₽] [Динамика курса евро к рублю (EUR, ЦБ РФ)]\n",
      "[USD MOEX] [24 июня] [53,40 ₽] [−0,07] [Динамика курса доллара США к рублю (USDTOM_UTS, MOEX)]\n",
      "[EUR MOEX] [24 июня] [56,07 ₽] [−0,13] [Динамика курса евро к рублю (EURTOM_UTS, MOEX)]\n",
      "[Нефть] [24 июня] [113,89 $] [+1,63%] [Динамика цен на фьючерсный контракт на нефть Brent (MOEX, USD\n",
      "    за баррель)]\n"
     ]
    }
   ],
   "source": [
    "for i in quotes.children:\n",
    "    page_html = requests.get(i['href'], headers=headers)\n",
    "    soup_page = bs(page_html.text, 'lxml')\n",
    "    quote_block = soup_page.find('h1', {'class':'news-stocks__title'})\n",
    "    quote_header = quote_block.text\n",
    "    for j in i.children:\n",
    "        for t in j.children:\n",
    "            for k in t.children:\n",
    "                print(\"[\" + k.text + \"]\", end = ' ')\n",
    "    print(\"[\" + quote_header + \"]\")\n",
    "    time.sleep(90)"
   ]
  },
  {
   "cell_type": "markdown",
   "metadata": {},
   "source": [
    "## Путин и котики"
   ]
  },
  {
   "cell_type": "code",
   "execution_count": 79,
   "metadata": {},
   "outputs": [],
   "source": [
    "html_text = requests.get('https://newssearch.yandex.ru/news/search?text=котики')"
   ]
  },
  {
   "cell_type": "code",
   "execution_count": 80,
   "metadata": {},
   "outputs": [],
   "source": [
    "soup = bs(html_text.text, 'lxml')"
   ]
  },
  {
   "cell_type": "code",
   "execution_count": 81,
   "metadata": {},
   "outputs": [
    {
     "name": "stdout",
     "output_type": "stream",
     "text": [
      "Полу Маккартни исполнилось 80 лет\n",
      "20 фотографий турецких котов, которые живут счастливее, чем вы\n",
      "Почему котики «чирикают»\n",
      "В Ясногорске пожарные спасли застрявшего на балконе кота\n",
      "Петербургские зоозащитники приняли на попечение 13 кошек из Мариуполя\n",
      "На выставке электротранспорта в Беларуси показали десятки экологичных машин\n",
      "Коррида тщеславия: Пенелопа Крус и Антонио Бандерас в комедии «Главная роль»\n",
      "Международные летние университетские игры пройдут в Екатеринбурге в 2023 году\n",
      "Телескоп от НАСА изучит состав темной материи в нашей галактике\n",
      "Кот Мостик стал символом крымского стенда на ПМЭФ\n"
     ]
    }
   ],
   "source": [
    "news = soup.findAll('h2', {'class':'news-search-story__title'})\n",
    "\n",
    "for i in news:\n",
    "    print(i.a.text)"
   ]
  },
  {
   "cell_type": "markdown",
   "metadata": {},
   "source": [
    "## Что посмотреть дополнительно"
   ]
  },
  {
   "cell_type": "markdown",
   "metadata": {},
   "source": [
    "https://disk.yandex.ru/d/IC1zeuQrlGvoVw"
   ]
  }
 ],
 "metadata": {
  "kernelspec": {
   "display_name": "Python 3 (ipykernel)",
   "language": "python",
   "name": "python3"
  },
  "language_info": {
   "codemirror_mode": {
    "name": "ipython",
    "version": 3
   },
   "file_extension": ".py",
   "mimetype": "text/x-python",
   "name": "python",
   "nbconvert_exporter": "python",
   "pygments_lexer": "ipython3",
   "version": "3.9.12"
  }
 },
 "nbformat": 4,
 "nbformat_minor": 4
}
