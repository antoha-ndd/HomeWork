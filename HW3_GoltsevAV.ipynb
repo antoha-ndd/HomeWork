{
 "cells": [
  {
   "cell_type": "code",
   "execution_count": 23,
   "metadata": {},
   "outputs": [],
   "source": [
    "import requests\n",
    "import lxml\n",
    "import time\n",
    "from bs4 import BeautifulSoup as bs"
   ]
  },
  {
   "cell_type": "code",
   "execution_count": 24,
   "metadata": {},
   "outputs": [],
   "source": [
    "headers = {'user-agent': 'Mozilla/5.0 (Windows NT 10.0; Win64; x64) AppleWebKit/537.36 (KHTML, like Gecko) Chrome/100.0.4896.160 YaBrowser/22.5.2.615 Yowser/2.5 Safari/537.36'}"
   ]
  },
  {
   "cell_type": "code",
   "execution_count": 25,
   "metadata": {},
   "outputs": [],
   "source": [
    "html_text = requests.get('https://yandex.ru/', headers=headers)"
   ]
  },
  {
   "cell_type": "code",
   "execution_count": 26,
   "metadata": {},
   "outputs": [],
   "source": [
    "soup = bs(html_text.text, 'lxml')"
   ]
  },
  {
   "cell_type": "code",
   "execution_count": 27,
   "metadata": {},
   "outputs": [],
   "source": [
    "quotes = soup.find('div', {'class':'widget__content stocks__content'})"
   ]
  },
  {
   "cell_type": "code",
   "execution_count": 28,
   "metadata": {},
   "outputs": [
    {
     "name": "stdout",
     "output_type": "stream",
     "text": [
      "[USD ЦБ] [25 июня] [53,32 ₽] [Динамика курса доллара США к рублю (USD, ЦБ РФ)]\n",
      "[EUR ЦБ] [25 июня] [55,96 ₽] [Динамика курса евро к рублю (EUR, ЦБ РФ)]\n",
      "[USD MOEX] [24 июня] [53,40 ₽] [−0,07] [Динамика курса доллара США к рублю (USDTOM_UTS, MOEX)]\n",
      "[EUR MOEX] [24 июня] [56,07 ₽] [−0,13] [Динамика курса евро к рублю (EURTOM_UTS, MOEX)]\n",
      "[Нефть] [24 июня] [113,89 $] [+1,63%] [Динамика цен на фьючерсный контракт на нефть Brent (MOEX, USD\n",
      "    за баррель)]\n"
     ]
    }
   ],
   "source": [
    "for i in quotes.children:\n",
    "    page_html = requests.get(i['href'], headers=headers)\n",
    "    soup_page = bs(page_html.text, 'lxml')\n",
    "    quote_block = soup_page.find('h1', {'class':'news-stocks__title'})\n",
    "    quote_header = quote_block.text\n",
    "    for j in i.children:\n",
    "        for t in j.children:\n",
    "            for k in t.children:\n",
    "                print(\"[\" + k.text + \"]\", end = ' ')\n",
    "    print(\"[\" + quote_header + \"]\")\n",
    "    time.sleep(90)"
   ]
  }
 ],
 "metadata": {
  "kernelspec": {
   "display_name": "Python 3 (ipykernel)",
   "language": "python",
   "name": "python3"
  },
  "language_info": {
   "codemirror_mode": {
    "name": "ipython",
    "version": 3
   },
   "file_extension": ".py",
   "mimetype": "text/x-python",
   "name": "python",
   "nbconvert_exporter": "python",
   "pygments_lexer": "ipython3",
   "version": "3.9.12"
  }
 },
 "nbformat": 4,
 "nbformat_minor": 4
}
